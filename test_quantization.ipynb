{
 "cells": [
  {
   "cell_type": "code",
   "execution_count": 1,
   "metadata": {},
   "outputs": [],
   "source": [
    "import numpy as np\n",
    "import matplotlib.pyplot as plt"
   ]
  },
  {
   "attachments": {},
   "cell_type": "markdown",
   "metadata": {},
   "source": [
    "## matrix multiplication using quantization\n",
    "### example 1\n",
    "$arr1= \\begin{bmatrix}\n",
    "1 & 2 & 3 \\\\\n",
    "4 & 5 & 6 \\\\\n",
    "7 & 8 & 9 \n",
    "\\end{bmatrix}, arr2= \\begin{bmatrix}\n",
    "0.1 & 4 & 70 \\\\\n",
    "0.2 & 5 & 80 \\\\\n",
    "0.3 & 6 & 90 \n",
    "\\end{bmatrix} => dot(arr1,arr2)$"
   ]
  },
  {
   "cell_type": "code",
   "execution_count": 4,
   "metadata": {},
   "outputs": [
    {
     "data": {
      "text/plain": [
       "array([[   1.4,   32. ,  500. ],\n",
       "       [   3.2,   77. , 1220. ],\n",
       "       [   5. ,  122. , 1940. ]], dtype=float32)"
      ]
     },
     "execution_count": 4,
     "metadata": {},
     "output_type": "execute_result"
    }
   ],
   "source": [
    "np.set_printoptions(precision=4, suppress=True)\n",
    "\n",
    "arr1 = np.array([[1, 2, 3], [4,5,6], [7,8,9]], dtype=np.float32)\n",
    "arr2 = np.array([[0.1, 0.2, 0.3], [4,5,6], [70, 80, 90]], dtype=np.float32).T\n",
    "\n",
    "np.dot(arr1, arr2)"
   ]
  },
  {
   "attachments": {},
   "cell_type": "markdown",
   "metadata": {},
   "source": [
    "## Step 1 Layerwise quantization (3bit)\n",
    "\n",
    "### 1 array only 1 scale factor (and unsigned)\n",
    "$ arr1 = (max(arr1) - min(arr1)) / (2^3-1) = 8/7 , \\\\ arr2 = (max(arr2)-min(arr2))/(2^3-1) = 89.9 / 7 $"
   ]
  },
  {
   "cell_type": "code",
   "execution_count": 14,
   "metadata": {},
   "outputs": [
    {
     "name": "stdout",
     "output_type": "stream",
     "text": [
      "scale arr1 :  1.1428571428571428\n",
      "quantize arr 1 : \n",
      " [[0. 1. 2.]\n",
      " [3. 3. 4.]\n",
      " [5. 6. 7.]]\n",
      "dequantize arr 1 : \n",
      " [[1.1429 2.2857 3.4286]\n",
      " [4.5714 4.5714 5.7143]\n",
      " [6.8571 8.     9.1429]]\n",
      "quant error :  0.9583151\n",
      "scale arr2 :  12.842857360839844\n",
      "quantize arr 2 : \n",
      " [[0. 0. 5.]\n",
      " [0. 0. 6.]\n",
      " [0. 0. 7.]]\n",
      "dequantize arr 2 : \n",
      " [[ 1.2843  1.2843 65.4986]\n",
      " [ 1.2843  1.2843 78.3414]\n",
      " [ 1.2843  1.2843 91.1843]]\n",
      "quant error 2:  8.448837\n"
     ]
    }
   ],
   "source": [
    "nbits = 3\n",
    "scale_arr1 = (arr1.max() - arr1.min()) / (2**nbits - 1)\n",
    "quant_arr1 = np.round((arr1 - arr1.min())/scale_arr1)\n",
    "dequant_arr1 = np.round((arr1 - arr1.min())/scale_arr1)*scale_arr1 + arr1.min()*scale_arr1\n",
    "quant_error = np.linalg.norm(arr1 - dequant_arr1) # L2 norm\n",
    "\n",
    "print(\"scale arr1 : \", scale_arr1)\n",
    "print(\"quantize arr 1 : \\n\", quant_arr1)\n",
    "print(\"dequantize arr 1 : \\n\", dequant_arr1)\n",
    "print(\"quant error : \", quant_error)\n",
    "\n",
    "scale_arr2 = (arr2.max() - arr2.min()) / (2**nbits - 1)\n",
    "quant_arr2 = np.round((arr2 - arr2.min())/scale_arr2)\n",
    "dequant_arr2 = np.round((arr2 - arr2.min())/scale_arr2)*scale_arr2 + arr2.min()*scale_arr2\n",
    "quant_error2 = np.linalg.norm(arr2 - dequant_arr2) # L2 norm\n",
    "\n",
    "print(\"scale arr2 : \", scale_arr2)\n",
    "print(\"quantize arr 2 : \\n\", quant_arr2)\n",
    "print(\"dequantize arr 2 : \\n\", dequant_arr2)\n",
    "print(\"quant error 2: \", quant_error2)"
   ]
  },
  {
   "attachments": {},
   "cell_type": "markdown",
   "metadata": {},
   "source": [
    "## Step 2 row-wise quantization (3bit)\n",
    "\n",
    "### matrix multiplication\n",
    "$ C_{ij} = \\sum $ \\\n",
    "$ arr1 = (max(arr1) - min(arr1)) / (2^3-1) = 8/7 , \\\\ arr2 = (max(arr2)-min(arr2))/(2^3-1) = 89.9 / 7 $"
   ]
  },
  {
   "attachments": {},
   "cell_type": "markdown",
   "metadata": {},
   "source": [
    "## Step 2 row-wise quantization (3bit)\n",
    "\n",
    "### matrix multiplication\n",
    "$ C_{ik} = \\sum^{k}arr1_{ij}*arr2_{jk} $ \\\n",
    "arr1 is row-wise independent ($arr1_{1j}$ does not interfere $arr1_{2j}$) \\\n",
    "arr2 is column-wise independent ($arr2_{j1}$ does not interfere $arr2_{j2}$) \\\n",
    "$ arr1_{0k} = (max(arr1_{0k}) - min(arr1_{0k})) / (2^3-1) = 2/7 , \\\\ arr2_{k0} = (max(arr2_{k0})-min(arr2_{k0}))/(2^3-1) = 0.3-0.1 / 7 $"
   ]
  },
  {
   "cell_type": "markdown",
   "metadata": {},
   "source": []
  }
 ],
 "metadata": {
  "kernelspec": {
   "display_name": "base",
   "language": "python",
   "name": "python3"
  },
  "language_info": {
   "codemirror_mode": {
    "name": "ipython",
    "version": 3
   },
   "file_extension": ".py",
   "mimetype": "text/x-python",
   "name": "python",
   "nbconvert_exporter": "python",
   "pygments_lexer": "ipython3",
   "version": "3.8.13"
  },
  "orig_nbformat": 4
 },
 "nbformat": 4,
 "nbformat_minor": 2
}
