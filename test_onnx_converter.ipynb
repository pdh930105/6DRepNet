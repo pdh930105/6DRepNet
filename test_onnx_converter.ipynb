{
 "cells": [
  {
   "cell_type": "code",
   "execution_count": 10,
   "metadata": {},
   "outputs": [
    {
     "name": "stdout",
     "output_type": "stream",
     "text": [
      "resnet18\n"
     ]
    },
    {
     "data": {
      "text/plain": [
       "<All keys matched successfully>"
      ]
     },
     "execution_count": 10,
     "metadata": {},
     "output_type": "execute_result"
    }
   ],
   "source": [
    "import torch\n",
    "from easydict import EasyDict\n",
    "import numpy as np\n",
    "from pathlib import Path\n",
    "from sixdrepnet.model import SixDofNet, SixDRepNet\n",
    "\n",
    "weights = './sixdrepnet/output/snapshots/resnet18_1681645840_bs80_112/last_checkpoint.tar'\n",
    "\n",
    "model_path = Path(weights)\n",
    "model_name = model_path.parts[-2].split('_')[0]\n",
    "print(model_name)\n",
    "\n",
    "model_checkpoint = torch.load(model_path)\n",
    "\n",
    "if 'RepVGG' in model_name:\n",
    "    model = SixDRepNet(backbone_name=model_name,\n",
    "                                backbone_file='',\n",
    "                                deploy=False,\n",
    "                                pretrained=False)\n",
    "else:\n",
    "    model = SixDofNet(model_name, pretrained=False)\n",
    "\n",
    "model.load_state_dict(model_checkpoint['model_state_dict'])"
   ]
  },
  {
   "cell_type": "code",
   "execution_count": 14,
   "metadata": {},
   "outputs": [
    {
     "name": "stdout",
     "output_type": "stream",
     "text": [
      "ONNX: starting export with onnx 1.12.0...\n",
      "ONNX: simplifying with onnx-simplifier 0.4.19...\n",
      "ONNX: export success, saved as resnet18_dof.onnx (44.7 MB)\n"
     ]
    }
   ],
   "source": [
    "import torch\n",
    "from easydict import EasyDict\n",
    "import numpy as np\n",
    "from pathlib import Path\n",
    "\n",
    "def file_size(file):\n",
    "    # Return file size in MB\n",
    "    return Path(file).stat().st_size / 1e6\n",
    "\n",
    "\n",
    "opt = EasyDict()\n",
    "opt.weights = './sixdrepnet/output/snapshots/resnet18_1681645840_bs80_112/last_checkpoint.tar'\n",
    "opt.output_name = 'resnet18_dof.onnx'\n",
    "opt.img_size = 112\n",
    "opt.dynamic = False\n",
    "output_names = ['output']\n",
    "opt.simplify = True\n",
    "prefix = 'ONNX:'\n",
    "\n",
    "img = torch.zeros([1,3,opt.img_size, opt.img_size], dtype=torch.float32)\n",
    "\n",
    "try:\n",
    "    import onnx\n",
    "\n",
    "    print(f'{prefix} starting export with onnx {onnx.__version__}...')\n",
    "    \n",
    "    torch.onnx.export(model, img, opt.output_name, verbose=False, opset_version=11, input_names=['images'], output_names=output_names,\n",
    "                            dynamic_axes=None)\n",
    "    # Checks\n",
    "    model_onnx = onnx.load(opt.output_name)  # load onnx model\n",
    "    onnx.checker.check_model(model_onnx)  # check onnx model\n",
    "    # print(onnx.helper.printable_graph(model_onnx.graph))  # print\n",
    "    # Simplify\n",
    "    if opt.simplify:\n",
    "        try:\n",
    "            import onnxsim\n",
    "\n",
    "            print(f'{prefix} simplifying with onnx-simplifier {onnxsim.__version__}...')\n",
    "            model_onnx, check = onnxsim.simplify(model_onnx,\n",
    "                                                    dynamic_input_shape=opt.dynamic,\n",
    "                                                    input_shapes={'images': list(img.shape)} if opt.dynamic else None)\n",
    "            assert check, 'assert check failed'\n",
    "            onnx.save(model_onnx, opt.output_name)\n",
    "        except Exception as e:\n",
    "            print(f'{prefix} simplifier failure: {e}')\n",
    "    print(f'{prefix} export success, saved as {opt.output_name} ({file_size(opt.output_name):.1f} MB)')\n",
    "except Exception as e:\n",
    "    print(f'{prefix} export failure: {e}')\n",
    "\n"
   ]
  },
  {
   "cell_type": "code",
   "execution_count": null,
   "metadata": {},
   "outputs": [],
   "source": []
  }
 ],
 "metadata": {
  "kernelspec": {
   "display_name": "base",
   "language": "python",
   "name": "python3"
  },
  "language_info": {
   "codemirror_mode": {
    "name": "ipython",
    "version": 3
   },
   "file_extension": ".py",
   "mimetype": "text/x-python",
   "name": "python",
   "nbconvert_exporter": "python",
   "pygments_lexer": "ipython3",
   "version": "3.8.13"
  },
  "orig_nbformat": 4
 },
 "nbformat": 4,
 "nbformat_minor": 2
}
